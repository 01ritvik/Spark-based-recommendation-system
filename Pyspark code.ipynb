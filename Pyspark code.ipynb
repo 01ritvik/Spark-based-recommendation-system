{
  "cells": [
    {
      "cell_type": "code",
      "execution_count": 1,
      "metadata": {
        "colab": {
          "base_uri": "https://localhost:8080/",
          "height": 0
        },
        "id": "oJ8jTDXSpM9l",
        "outputId": "75ea69bd-81d2-438b-f911-27005b92bf55"
      },
      "outputs": [
        {
          "output_type": "stream",
          "name": "stdout",
          "text": [
            "Collecting pyspark\n",
            "  Downloading pyspark-3.5.1.tar.gz (317.0 MB)\n",
            "\u001b[2K     \u001b[90m━━━━━━━━━━━━━━━━━━━━━━━━━━━━━━━━━━━━━━━━\u001b[0m \u001b[32m317.0/317.0 MB\u001b[0m \u001b[31m2.0 MB/s\u001b[0m eta \u001b[36m0:00:00\u001b[0m\n",
            "\u001b[?25h  Preparing metadata (setup.py) ... \u001b[?25l\u001b[?25hdone\n",
            "Requirement already satisfied: py4j==0.10.9.7 in /usr/local/lib/python3.10/dist-packages (from pyspark) (0.10.9.7)\n",
            "Building wheels for collected packages: pyspark\n",
            "  Building wheel for pyspark (setup.py) ... \u001b[?25l\u001b[?25hdone\n",
            "  Created wheel for pyspark: filename=pyspark-3.5.1-py2.py3-none-any.whl size=317488491 sha256=d906a625352293801c2c4f50cf838414d65ac1192badc2ef6531a96825d96f8c\n",
            "  Stored in directory: /root/.cache/pip/wheels/80/1d/60/2c256ed38dddce2fdd93be545214a63e02fbd8d74fb0b7f3a6\n",
            "Successfully built pyspark\n",
            "Installing collected packages: pyspark\n",
            "Successfully installed pyspark-3.5.1\n"
          ]
        }
      ],
      "source": [
        "!pip install pyspark   # installing pyspark library"
      ]
    },
    {
      "cell_type": "code",
      "execution_count": 2,
      "metadata": {
        "colab": {
          "base_uri": "https://localhost:8080/",
          "height": 0
        },
        "id": "-0lGWjhhwBr7",
        "outputId": "c271d32e-92ce-4815-eb66-d3b3fb2e4270"
      },
      "outputs": [
        {
          "output_type": "stream",
          "name": "stdout",
          "text": [
            "Collecting faiss-gpu\n",
            "  Downloading faiss_gpu-1.7.2-cp310-cp310-manylinux_2_17_x86_64.manylinux2014_x86_64.whl (85.5 MB)\n",
            "\u001b[2K     \u001b[90m━━━━━━━━━━━━━━━━━━━━━━━━━━━━━━━━━━━━━━━━\u001b[0m \u001b[32m85.5/85.5 MB\u001b[0m \u001b[31m10.9 MB/s\u001b[0m eta \u001b[36m0:00:00\u001b[0m\n",
            "\u001b[?25hInstalling collected packages: faiss-gpu\n",
            "Successfully installed faiss-gpu-1.7.2\n"
          ]
        }
      ],
      "source": [
        "!pip install faiss-gpu # installing faiss-gpu library"
      ]
    },
    {
      "cell_type": "code",
      "execution_count": 3,
      "metadata": {
        "id": "YWGpvhOapPu5"
      },
      "outputs": [],
      "source": [
        "# importing all libraries required for this code\n",
        "from pyspark.sql import SparkSession\n",
        "from pyspark.ml import Pipeline\n",
        "from pyspark.ml.feature import Tokenizer, StopWordsRemover, RegexTokenizer, HashingTF, IDF   # Tokenizer: Splits text into words   #StopWordsRemover:Removes common words (stop words) from input text #HashingTF: Converts a sequence of words into a fixed-size feature vector #IDF:Computes the Inverse Document Frequency\n",
        "from pyspark.sql.functions import monotonically_increasing_id, col, rand, lower, regexp_replace, when,udf #Monotonically_increasing_id: Generates monotonically increasing unique IDs #rand:Generates random numbers\n",
        "from pyspark.sql.functions import explode, count\n",
        "from pyspark.sql.functions import split\n",
        "import matplotlib.pyplot as plt  # library for creating visualizations\n",
        "from pyspark.ml.recommendation import ALS #Alternating Least Squares algorithm for collaborative filtering\n",
        "from pyspark.ml.feature import IDFModel\n",
        "from pyspark.sql.types import ArrayType, FloatType\n",
        "import numpy as np\n",
        "import faiss #library for efficient similarity search and clustering of dense vectors\n",
        "from pyspark.ml.clustering import KMeans\n"
      ]
    },
    {
      "cell_type": "code",
      "execution_count": 5,
      "metadata": {
        "id": "3_73jvoYwBr8"
      },
      "outputs": [],
      "source": [
        "\n",
        "# Start Spark session\n",
        "spark = SparkSession.builder \\\n",
        "    .appName(\"Article Recommender System\") \\\n",
        "    .getOrCreate()\n",
        "\n",
        "# Path of the dataset\n",
        "data_path = \"/content/medium_articles.csv\"\n",
        "\n",
        "# Reading CSV file to DataFrame\n",
        "# Making the first row as header\n",
        "# Infers the schema of the DataFrame\n",
        "\n",
        "article_df = spark.read.format(\"csv\") \\\n",
        "    .option(\"header\", \"true\") \\\n",
        "    .option(\"inferSchema\", \"true\") \\\n",
        "    .load(data_path)"
      ]
    },
    {
      "cell_type": "code",
      "execution_count": 6,
      "metadata": {
        "id": "L9B7EOYdpcbU"
      },
      "outputs": [],
      "source": [
        "# Adding a new column \"article_id\" to the DataFrame article_df with monotonically increasing unique IDs\n",
        "article_df = article_df.withColumn(\"article_id\", monotonically_increasing_id())\n",
        "\n",
        "num_users = 100\n",
        "user_article_interactions = article_df.select(\n",
        "\n",
        "    \"article_id\",  # # selecting the article_id column from article_df\n",
        "    (rand(seed=42) * num_users).cast(\"integer\").alias(\"user_id\"),\n",
        "    (rand(seed=27) * 5 + 1).cast(\"integer\").alias(\"rating\")  # Ratings between 1 and 5\n",
        ")"
      ]
    },
    {
      "cell_type": "code",
      "execution_count": 7,
      "metadata": {
        "id": "mgaHSjbwpeRY"
      },
      "outputs": [],
      "source": [
        "# Adding a new column \"cleaned_text\" to the DataFrame article_df\n",
        "article_df = article_df.withColumn(\"cleaned_text\", when(col(\"text\").isNull(), \"\").otherwise(\n",
        "    lower(regexp_replace(col(\"text\"), \"\\\\p{Punct}\", \"\"))\n",
        "))\n",
        "# spliting the \"cleaned_text\" column into individual words\n",
        "tokenizer = Tokenizer(inputCol=\"cleaned_text\", outputCol=\"words\")\n",
        "#removes common words/stop words from the tokenized words\n",
        "stopwords_remover = StopWordsRemover(inputCol=\"words\", outputCol=\"filtered_words\")"
      ]
    },
    {
      "cell_type": "code",
      "execution_count": 8,
      "metadata": {
        "colab": {
          "base_uri": "https://localhost:8080/",
          "height": 0
        },
        "id": "nopuwixbpfW0",
        "outputId": "ae44784d-c967-4bc8-a25a-1cdd321a0d56"
      },
      "outputs": [
        {
          "output_type": "stream",
          "name": "stdout",
          "text": [
            "+--------------------------------------------------------------------------------------------------------------------------------------------------------------------------------------+--------------------------------------------------------------------------------------------------------------------------------------------------------------+\n",
            "|title                                                                                                                                                                                 |filtered_words                                                                                                                                                |\n",
            "+--------------------------------------------------------------------------------------------------------------------------------------------------------------------------------------+--------------------------------------------------------------------------------------------------------------------------------------------------------------+\n",
            "|Mental Note Vol. 24                                                                                                                                                                   |[photo, josh, riemer, unsplash]                                                                                                                               |\n",
            "|Merry Christmas and Happy Holidays                                                                                                                                                    |[, everyone]                                                                                                                                                  |\n",
            "|We just wanted everyone to know how much we appreciate everyone and how thankful we are for all our readers and writers here. We wouldn’t be anywhere without you                     |[, thank, bringing, informative]                                                                                                                              |\n",
            "|Without further ado                                                                                                                                                                   |[, ten, top, stories, last, week]                                                                                                                             |\n",
            "|“Just as the capacity to love and inspire is universal so is the capacity to hate and discourage. Irrespective of gender                                                              |[, race]                                                                                                                                                      |\n",
            "|“Even though the circumstances that brought me here were sad and challenging                                                                                                          |[, i’m, grateful, program, changed, life, better, can’t, help, imagine, life, like, everyone, learned, accept, powerlessness, people]                         |\n",
            "|“The prospect of spending a horrible Christmas                                                                                                                                        |[, locked, psychiatric, unit]                                                                                                                                 |\n",
            "|“Although I hate to admit it                                                                                                                                                          |[, even, ex, never, betrayed]                                                                                                                                 |\n",
            "|“On a personal note                                                                                                                                                                   |[, significant, feelings, loss, sadness, still, flare, time, time, that’s, natural, it’s, reason, selfcritique, matter, resilient, purport]                   |\n",
            "|“The next six weeks will be hard as cases continue to explode and government leadership remains nonexistent. I can’t control any of this. The only thing I can do is take deep breaths|[, remain, vigilant, comes, limiting, exposure, virus]                                                                                                        |\n",
            "|“From anecdotal news reports and informal surveys                                                                                                                                     |[, evidence, us]                                                                                                                                              |\n",
            "|“Every day I wish in my heart and soul that I didn’t have ME/CFS. Unfortunately                                                                                                       |[, it’s, result, virus, 10–12, percent, people, experience, serious, infection, go, develop, i’ve, visualized, life, without, cfs, year, smell, life, without]|\n",
            "|“Whether it’s cabin fever                                                                                                                                                             |[, redundancy]                                                                                                                                                |\n",
            "|“To be more self-compassionate is a task that can be tricky because we always want to push ourselves and do better. Without realising it                                              |[, lead, us, selfcritical, damaging, consequences]                                                                                                            |\n",
            "|It’s important to notice these times when we are harsh because we can easily turn it into self-compassion                                                                             |[, linked, better, quality, life”]                                                                                                                            |\n",
            "|Merry Christmas and Happy Holidays                                                                                                                                                    |[, everyone]                                                                                                                                                  |\n",
            "|— Ryan                                                                                                                                                                                |[, juliette]                                                                                                                                                  |\n",
            "|Your Brain On Coronavirus                                                                                                                                                             |[brain, coronavirus]                                                                                                                                          |\n",
            "|A guide to the curious and troubling impact of the pandemic and isolation                                                                                                             |[]                                                                                                                                                            |\n",
            "|Photo by cottonbro from Pexels                                                                                                                                                        |[]                                                                                                                                                            |\n",
            "+--------------------------------------------------------------------------------------------------------------------------------------------------------------------------------------+--------------------------------------------------------------------------------------------------------------------------------------------------------------+\n",
            "only showing top 20 rows\n",
            "\n"
          ]
        }
      ],
      "source": [
        "#Creating a pipeline with the defined stages like tokenizer\n",
        "pipeline = Pipeline(stages=[tokenizer, stopwords_remover])\n",
        "\n",
        "processed_df = pipeline.fit(article_df).transform(article_df)\n",
        "\n",
        "processed_df.select(\"title\", \"filtered_words\").show(truncate=False)"
      ]
    },
    {
      "cell_type": "code",
      "execution_count": 9,
      "metadata": {
        "colab": {
          "base_uri": "https://localhost:8080/",
          "height": 0
        },
        "id": "N5ci6TNMpgEl",
        "outputId": "139d386e-4d51-4fd1-e787-91e386de8023"
      },
      "outputs": [
        {
          "output_type": "stream",
          "name": "stdout",
          "text": [
            "+----------+-------+------+\n",
            "|article_id|user_id|rating|\n",
            "+----------+-------+------+\n",
            "|         0|     61|     5|\n",
            "|         1|     50|     5|\n",
            "|         2|     83|     1|\n",
            "|         3|     26|     2|\n",
            "|         4|     67|     3|\n",
            "|         5|     51|     2|\n",
            "|         6|     99|     4|\n",
            "|         7|      6|     2|\n",
            "|         8|     96|     5|\n",
            "|         9|     79|     1|\n",
            "|        10|     44|     3|\n",
            "|        11|     67|     2|\n",
            "|        12|     37|     4|\n",
            "|        13|     83|     1|\n",
            "|        14|     74|     4|\n",
            "|        15|     72|     2|\n",
            "|        16|      1|     3|\n",
            "|        17|     63|     1|\n",
            "|        18|      7|     5|\n",
            "|        19|     83|     1|\n",
            "+----------+-------+------+\n",
            "only showing top 20 rows\n",
            "\n"
          ]
        }
      ],
      "source": [
        "user_article_interactions.show()"
      ]
    },
    {
      "cell_type": "code",
      "execution_count": 10,
      "metadata": {
        "colab": {
          "base_uri": "https://localhost:8080/",
          "height": 0
        },
        "id": "aWv41it7phts",
        "outputId": "7c3358ed-a68f-4416-e73b-8c65d29c0200"
      },
      "outputs": [
        {
          "output_type": "stream",
          "name": "stdout",
          "text": [
            "+------+-----+\n",
            "|word  |count|\n",
            "+------+-----+\n",
            "|      |48438|\n",
            "|—     |1178 |\n",
            "|one   |1169 |\n",
            "|it’s  |1086 |\n",
            "|like  |1046 |\n",
            "|time  |1031 |\n",
            "|data  |906  |\n",
            "|people|893  |\n",
            "|get   |755  |\n",
            "|make  |711  |\n",
            "|need  |702  |\n",
            "|new   |688  |\n",
            "|also  |687  |\n",
            "|work  |645  |\n",
            "|use   |620  |\n",
            "|us    |617  |\n",
            "|don’t |595  |\n",
            "|even  |577  |\n",
            "|way   |568  |\n",
            "|first |559  |\n",
            "+------+-----+\n",
            "only showing top 20 rows\n",
            "\n",
            "+----------+---------------+\n",
            "|article_id|number_of_users|\n",
            "+----------+---------------+\n",
            "|26        |1              |\n",
            "|29        |1              |\n",
            "|474       |1              |\n",
            "|964       |1              |\n",
            "|1677      |1              |\n",
            "|1697      |1              |\n",
            "|1806      |1              |\n",
            "|1950      |1              |\n",
            "|2040      |1              |\n",
            "|2214      |1              |\n",
            "|2250      |1              |\n",
            "|2453      |1              |\n",
            "|2509      |1              |\n",
            "|2529      |1              |\n",
            "|2927      |1              |\n",
            "|3091      |1              |\n",
            "|3506      |1              |\n",
            "|3764      |1              |\n",
            "|4590      |1              |\n",
            "|4823      |1              |\n",
            "+----------+---------------+\n",
            "only showing top 20 rows\n",
            "\n"
          ]
        }
      ],
      "source": [
        "# Exploding the filtered_words column into separate rows for each word\n",
        "\n",
        "word_counts = processed_df.withColumn(\"word\", explode(col(\"filtered_words\"))) \\\n",
        "                          .groupBy(\"word\") \\\n",
        "                          .count() \\\n",
        "                          .orderBy(col(\"count\").desc())\n",
        "\n",
        "word_counts.show(truncate=False)\n",
        "\n",
        "interaction_summary = user_article_interactions.groupBy(\"article_id\") \\\n",
        "                                               .agg(count(\"user_id\").alias(\"number_of_users\")) \\\n",
        "                                               .orderBy(col(\"number_of_users\").desc())\n",
        "\n",
        "#Summary Display\n",
        "interaction_summary.show(truncate=False)\n",
        "\n"
      ]
    },
    {
      "cell_type": "code",
      "execution_count": 11,
      "metadata": {
        "colab": {
          "base_uri": "https://localhost:8080/",
          "height": 0
        },
        "id": "CmByfeBnpimI",
        "outputId": "bcb8f1c7-fd89-483c-d0a8-600560895c3a"
      },
      "outputs": [
        {
          "output_type": "stream",
          "name": "stdout",
          "text": [
            "+-----------------------+-----+\n",
            "|tag                    |count|\n",
            "+-----------------------+-----+\n",
            "|Creativity             |50   |\n",
            "|Writing                |47   |\n",
            "|Productivity           |46   |\n",
            "|Startup                |36   |\n",
            "|Entrepreneurship       |35   |\n",
            "|Business               |33   |\n",
            "|Writing]               |33   |\n",
            "|Psychology             |28   |\n",
            "|Mental Health          |27   |\n",
            "|[Creativity            |26   |\n",
            "|Health                 |24   |\n",
            "|Self                   |23   |\n",
            "|Creativity]            |23   |\n",
            "|Technology             |23   |\n",
            "|Artificial Intelligence|23   |\n",
            "|[Marketing             |20   |\n",
            "|Writing Tips           |18   |\n",
            "|Productivity]          |17   |\n",
            "|AI                     |16   |\n",
            "|Self Improvement       |16   |\n",
            "+-----------------------+-----+\n",
            "only showing top 20 rows\n",
            "\n"
          ]
        }
      ],
      "source": [
        "\n",
        "\n",
        "# Assuming tags are separated by commas and enclosed in brackets or quotes which need to be removed\n",
        "article_df = article_df.withColumn(\"tags\", split(regexp_replace(col(\"tags\"), r\"[\\\\[\\\\]'']\", \"\"), \",\\s*\"))\n",
        "\n",
        "# Now you can explode the tags into separate rows for each tag\n",
        "tag_counts = article_df.withColumn(\"tag\", explode(col(\"tags\"))) \\\n",
        "                       .groupBy(\"tag\") \\\n",
        "                       .count() \\\n",
        "                       .orderBy(col(\"count\").desc())\n",
        "\n",
        "tag_counts.show(truncate=False)\n"
      ]
    },
    {
      "cell_type": "code",
      "execution_count": 12,
      "metadata": {
        "colab": {
          "base_uri": "https://localhost:8080/",
          "height": 645
        },
        "id": "MGaoi4H7pjxk",
        "outputId": "c269e257-772f-4522-d0b5-1d92dcf2a0aa"
      },
      "outputs": [
        {
          "output_type": "display_data",
          "data": {
            "text/plain": [
              "<Figure size 1000x600 with 1 Axes>"
            ],
            "image/png": "[encoded data removed]"
          },
          "metadata": {}
        }
      ],
      "source": [
        "\n",
        "\n",
        "# Continuing from the previous step where tags are transformed into an array\n",
        "tag_counts = article_df.withColumn(\"tag\", explode(col(\"tags\"))) \\\n",
        "                       .groupBy(\"tag\") \\\n",
        "                       .count() \\\n",
        "                       .orderBy(col(\"count\").desc())\n",
        "\n",
        "# Now collect the data to the driver for visualization\n",
        "tag_counts_data = tag_counts.limit(10).toPandas()  # Limiting to top 10 for visualization\n",
        "\n",
        "\n",
        "# Bar chart of tag frequencies\n",
        "plt.figure(figsize=(10, 6))\n",
        "plt.bar(tag_counts_data['tag'], tag_counts_data['count'], color='skyblue')\n",
        "plt.xlabel('Tags')\n",
        "plt.ylabel('Frequency')\n",
        "plt.title('Top 10 Most Frequent Tags')\n",
        "plt.xticks(rotation=45)\n",
        "plt.show()\n"
      ]
    },
    {
      "cell_type": "code",
      "execution_count": 13,
      "metadata": {
        "colab": {
          "base_uri": "https://localhost:8080/",
          "height": 0
        },
        "id": "BAWSTQr-pklI",
        "outputId": "865a08a5-ce5c-4d72-8870-d0268b96b0f5"
      },
      "outputs": [
        {
          "output_type": "stream",
          "name": "stdout",
          "text": [
            "+--------------------+--------------------+--------------------+--------------------+--------------------+--------------------+----------+--------------------+--------------------+--------------------+--------------------+\n",
            "|               title|                text|                 url|             authors|           timestamp|                tags|article_id|        cleaned_text|               words|         rawFeatures|            features|\n",
            "+--------------------+--------------------+--------------------+--------------------+--------------------+--------------------+----------+--------------------+--------------------+--------------------+--------------------+\n",
            "| Mental Note Vol. 24|Photo by Josh Rie...|                NULL|                NULL|                NULL|                NULL|         0|photo by josh rie...|[photo, by, josh,...|(20,[1,7,12,14,15...|(20,[1,7,12,14,15...|\n",
            "|Merry Christmas a...|           everyone!|                NULL|                NULL|                NULL|                NULL|         1|            everyone|       [, everyone!]|(20,[9,12],[1.0,1...|(20,[9,12],[1.430...|\n",
            "|We just wanted ev...| so thank you all...|          vulnerable| and important pi...|                NULL|                NULL|         2| so thank you all...|[, so, thank, you...|(20,[3,4,7,8,12,1...|(20,[3,4,7,8,12,1...|\n",
            "| Without further ado| here are ten of ...| all of which wer...|                NULL|                NULL|                NULL|         3| here are ten of ...|[, here, are, ten...|(20,[1,2,3,5,8,9,...|(20,[1,2,3,5,8,9,...|\n",
            "|“Just as the capa...|                race| age or religion ...| and accordingly ...| are more prone t...|             [ work]|         4|                race|            [, race]|(20,[12,14],[1.0,...|(20,[12,14],[0.04...|\n",
            "|“Even though the ...| I’m grateful for...| prioritize their...| and take life on...| but I’d bet the ...|                NULL|         5| i’m grateful for...|[, i’m, grateful,...|(20,[1,3,4,5,6,7,...|(20,[1,3,4,5,6,7,...|\n",
            "|“The prospect of ...| locked in on a p...| was one of the l...| the day room was...|                NULL|                NULL|         6| locked in on a p...|[, locked, in, on...|(20,[0,3,5,7,12,1...|(20,[0,3,5,7,12,1...|\n",
            "|“Although I hate ...| even if my ex ha...| I still wouldn’t...| how could anyone...|                NULL|                NULL|         7| even if my ex ha...|[, even, if, my, ...|(20,[1,4,6,8,9,12...|(20,[1,4,6,8,9,12...|\n",
            "| “On a personal note| significant feel...| we are all emoti...| we aren’t talkin...|             mothers|[ sisters and bro...|         8| significant feel...|[, significant, f...|(20,[0,1,2,3,4,8,...|(20,[0,1,2,3,4,8,...|\n",
            "|“The next six wee...| remain vigilant ...| and let lots of ...| but now that I r...| I’m hopeful I’ll...|                NULL|         9| remain vigilant ...|[, remain, vigila...|(20,[1,4,5,6,8,12...|(20,[1,4,5,6,8,12...|\n",
            "|“From anecdotal n...| there is evidenc...| this pandemic-im...|                NULL|                NULL|                NULL|        10| there is evidenc...|[, there, is, evi...|(20,[0,4,9,12,14,...|(20,[0,4,9,12,14,...|\n",
            "|“Every day I wish...| I do. It’s a res...| I can taste it. ...| as a twenty-four...| that I can’t. I ...|                NULL|        11| i do it’s a resu...|[, i, do., it’s, ...|(20,[0,1,2,3,4,5,...|(20,[0,1,2,3,4,5,...|\n",
            "|“Whether it’s cab...|          redundancy|                loss| or general Covid...| this year has ca...|[ and prepare and...|        12|          redundancy|      [, redundancy]|(20,[12,15],[1.0,...|(20,[12,15],[0.04...|\n",
            "|“To be more self-...| this can lead to...|                NULL|                NULL|                NULL|                NULL|        13| this can lead to...|[, this, can, lea...|(20,[0,1,2,4,8,12...|(20,[0,1,2,4,8,12...|\n",
            "|It’s important to...| which is linked ...|                NULL|                NULL|                NULL|                NULL|        14| which is linked ...|[, which, is, lin...|(20,[3,4,6,7,8,9,...|(20,[3,4,6,7,8,9,...|\n",
            "|Merry Christmas a...|           everyone!|                NULL|                NULL|                NULL|                NULL|        15|            everyone|       [, everyone!]|(20,[9,12],[1.0,1...|(20,[9,12],[1.430...|\n",
            "|              — Ryan|            Juliette|               Marie|       and Meredith\"|https://medium.co...|        [[Ryan Fan]]|        16|            juliette|        [, juliette]|     (20,[12],[2.0])|(20,[12],[0.08355...|\n",
            "|Your Brain On Cor...|Your Brain On Cor...|                NULL|                NULL|                NULL|                NULL|        17|your brain on cor...|[your, brain, on,...|(20,[2,3,11,16],[...|(20,[2,3,11,16],[...|\n",
            "|A guide to the cu...|                    |                NULL|                NULL|                NULL|                NULL|        18|                    |                  []|     (20,[12],[1.0])|(20,[12],[0.04177...|\n",
            "|Photo by cottonbr...|                    |                NULL|                NULL|                NULL|                NULL|        19|                    |                  []|     (20,[12],[1.0])|(20,[12],[0.04177...|\n",
            "+--------------------+--------------------+--------------------+--------------------+--------------------+--------------------+----------+--------------------+--------------------+--------------------+--------------------+\n",
            "only showing top 20 rows\n",
            "\n"
          ]
        }
      ],
      "source": [
        "\n",
        "\n",
        "# Replace null values in the 'text' column with an empty string\n",
        "cleaned_data = article_df.withColumn(\"text\", when(col(\"text\").isNull(), \"\").otherwise(col(\"text\")))\n",
        "\n",
        "# Tokenize the text\n",
        "tokenizer = Tokenizer(inputCol=\"text\", outputCol=\"words\")\n",
        "words_data = tokenizer.transform(cleaned_data)\n",
        "\n",
        "# Apply HashingTF to convert words to numeric IDs and count frequencies\n",
        "hashingTF = HashingTF(inputCol=\"words\", outputCol=\"rawFeatures\", numFeatures=20)\n",
        "featurized_data = hashingTF.transform(words_data)\n",
        "\n",
        "# Apply IDF\n",
        "idf = IDF(inputCol=\"rawFeatures\", outputCol=\"features\")\n",
        "idf_model = idf.fit(featurized_data)\n",
        "tfidf_data = idf_model.transform(featurized_data)\n",
        "\n",
        "tfidf_data.show()\n"
      ]
    },
    {
      "cell_type": "code",
      "execution_count": 14,
      "metadata": {
        "id": "vMzaKbZDplil"
      },
      "outputs": [],
      "source": [
        "\n",
        "\n",
        "# Assume the DataFrame `df` is already loaded\n",
        "# Apply a transformation to ensure IDs are within the 32-bit integer range\n",
        "max_int_value = 2147483647  # Maximum value for a 32-bit integer\n",
        "\n",
        "# Reassigning article IDs to ensure they fit within the 32-bit integer range\n",
        "article_df = article_df.withColumn(\"article_id\", (monotonically_increasing_id() % max_int_value).cast(\"integer\"))\n",
        "\n",
        "# User interactions\n",
        "user_article_interactions = article_df.select(\n",
        "    \"article_id\",\n",
        "    (rand(seed=42) * 100).cast(\"integer\").alias(\"user_id\"),\n",
        "    (rand(seed=27) * 5 + 1).cast(\"integer\").alias(\"rating\")\n",
        ")\n",
        "\n",
        "# Ensure user IDs also fit within 32-bit integer range\n",
        "user_article_interactions = user_article_interactions.withColumn(\"user_id\", (col(\"user_id\") % max_int_value).cast(\"integer\"))\n"
      ]
    },
    {
      "cell_type": "code",
      "execution_count": 15,
      "metadata": {
        "colab": {
          "base_uri": "https://localhost:8080/",
          "height": 0
        },
        "id": "9OWb9_ugpmZ9",
        "outputId": "dcb96500-3e8a-4be1-b3eb-99049827ebbd"
      },
      "outputs": [
        {
          "output_type": "stream",
          "name": "stdout",
          "text": [
            "Model fitted successfully.\n"
          ]
        }
      ],
      "source": [
        "\n",
        "\n",
        "als = ALS(maxIter=5, regParam=0.01, userCol=\"user_id\", itemCol=\"article_id\", ratingCol=\"rating\", coldStartStrategy=\"drop\", nonnegative=True)\n",
        "\n",
        "# Fit the model\n",
        "try:\n",
        "    model = als.fit(user_article_interactions)\n",
        "    print(\"Model fitted successfully.\")\n",
        "except Exception as e:\n",
        "    print(\"Error fitting model:\", str(e))\n"
      ]
    },
    {
      "cell_type": "code",
      "execution_count": 16,
      "metadata": {
        "colab": {
          "base_uri": "https://localhost:8080/",
          "height": 0
        },
        "id": "BBnMV-rZqChF",
        "outputId": "a12e70f9-3745-4a28-89ac-449e2137e709"
      },
      "outputs": [
        {
          "output_type": "stream",
          "name": "stdout",
          "text": [
            "+-------+-------------------------------------------------------------------------------------------------------------------------------------------------------------------------------------------------------+\n",
            "|user_id|recommendations                                                                                                                                                                                        |\n",
            "+-------+-------------------------------------------------------------------------------------------------------------------------------------------------------------------------------------------------------+\n",
            "|20     |[{6877, 6.671304}, {12549, 6.6175985}, {6729, 6.5659018}, {8206, 6.522201}, {8681, 6.1935477}, {138, 6.1044283}, {9468, 6.093579}, {5379, 5.9601192}, {4471, 5.9372997}, {6548, 5.9344363}]            |\n",
            "|40     |[{12500, 8.985668}, {11460, 8.146616}, {8681, 8.009666}, {8206, 7.9221373}, {6382, 7.792015}, {10363, 7.6516995}, {10771, 7.6192746}, {8466, 7.565822}, {7777, 7.547982}, {10909, 7.515075}]           |\n",
            "|10     |[{6184, 5.6400657}, {1751, 5.31721}, {8021, 5.2545023}, {11266, 5.2393255}, {11821, 5.229824}, {8681, 5.224959}, {4401, 5.194527}, {1000, 5.15038}, {3279, 5.057404}, {36077, 5.0510526}]              |\n",
            "|50     |[{10909, 6.6363807}, {9625, 6.4538817}, {1723, 6.4414024}, {7391, 6.4290457}, {460, 6.249534}, {1039, 6.0839915}, {11396, 6.07877}, {12500, 6.046246}, {11290, 6.0282006}, {11099, 5.993559}]          |\n",
            "|80     |[{1187, 5.8188205}, {12312, 5.2570014}, {2798, 5.2325597}, {4659, 5.1813993}, {36525, 5.0756736}, {34833, 5.0756736}, {34464, 5.0756736}, {34442, 5.0756736}, {33961, 5.0756736}, {33790, 5.0756736}]  |\n",
            "|70     |[{1064, 5.8661046}, {1494, 5.7046676}, {2210, 5.603721}, {5834, 5.5705295}, {1039, 5.5325513}, {12980, 5.485765}, {11099, 5.3751936}, {11319, 5.1843624}, {3609, 5.1458106}, {12270, 5.1386075}]       |\n",
            "|60     |[{10701, 5.305454}, {36945, 5.0534115}, {36618, 5.0534115}, {36469, 5.0534115}, {36261, 5.0534115}, {35039, 5.0534115}, {34753, 5.0534115}, {34696, 5.0534115}, {34040, 5.0534115}, {33885, 5.0534115}]|\n",
            "|90     |[{10701, 8.968112}, {8686, 8.397914}, {9500, 8.227738}, {821, 7.9731607}, {10729, 7.966721}, {5604, 7.8847857}, {9011, 7.8677044}, {12089, 7.7805233}, {9323, 7.76452}, {8967, 7.753321}]              |\n",
            "|30     |[{10871, 7.3293757}, {6729, 7.0900106}, {1766, 7.0547123}, {11285, 6.9217877}, {13362, 6.8989525}, {5379, 6.8741837}, {10214, 6.7950964}, {9468, 6.629354}, {9339, 6.585391}, {5635, 6.5169783}]       |\n",
            "|0      |[{6571, 5.720865}, {9625, 5.6135926}, {460, 5.523731}, {5379, 5.4806623}, {8228, 5.454087}, {3253, 5.454087}, {10214, 5.3118134}, {7126, 5.2907605}, {7204, 5.2531915}, {11099, 5.2489576}]            |\n",
            "|31     |[{7314, 7.2583914}, {2543, 7.099216}, {6729, 6.9498405}, {12050, 6.871033}, {8923, 6.8167624}, {5825, 6.7462153}, {2080, 6.734153}, {8022, 6.666725}, {4054, 6.641551}, {8686, 6.6110106}]             |\n",
            "|81     |[{11435, 6.256683}, {216, 6.150945}, {2050, 6.1164393}, {13039, 6.0118184}, {13654, 5.9707036}, {13918, 5.773478}, {4006, 5.773478}, {3062, 5.6756506}, {6524, 5.534152}, {10831, 5.5166426}]          |\n",
            "|91     |[{5379, 7.7252555}, {9504, 7.667304}, {10214, 7.524888}, {11394, 7.13062}, {1766, 6.9705577}, {752, 6.8512774}, {313, 6.805738}, {699, 6.58476}, {2148, 6.5733438}, {7824, 6.553836}]                  |\n",
            "|1      |[{1000, 7.9545293}, {8021, 7.877227}, {10107, 7.562598}, {7119, 7.3047433}, {2954, 7.0558376}, {1515, 7.02779}, {5045, 6.5890574}, {4145, 6.5737023}, {11158, 6.5580616}, {3148, 6.5108743}]           |\n",
            "|41     |[{13695, 7.8580675}, {9821, 7.0743876}, {1667, 7.0743876}, {1207, 6.5132904}, {2798, 6.263324}, {11485, 6.171082}, {4659, 6.136734}, {12655, 6.109918}, {6784, 5.8616114}, {2048, 5.8616114}]          |\n",
            "|61     |[{7245, 8.433805}, {12899, 8.418065}, {12299, 8.335743}, {10701, 8.273912}, {11821, 8.178725}, {10798, 7.7682776}, {10016, 7.5662394}, {9500, 7.5302477}, {4489, 7.519042}, {4933, 7.4993215}]         |\n",
            "|51     |[{12299, 6.760039}, {4988, 6.5119843}, {7347, 6.2637157}, {5490, 6.0876436}, {7245, 5.8885612}, {4533, 5.8801584}, {12489, 5.818986}, {6774, 5.7750096}, {6765, 5.7574773}, {12899, 5.754556}]         |\n",
            "|21     |[{8797, 5.2076864}, {3157, 5.2076864}, {13695, 5.10288}, {36678, 5.0998654}, {34800, 5.0998654}, {34375, 5.0998654}, {34108, 5.0998654}, {33583, 5.0998654}, {33140, 5.0998654}, {32158, 5.0998654}]   |\n",
            "|11     |[{5604, 6.82825}, {6225, 6.530603}, {7347, 5.904736}, {9023, 5.786222}, {460, 5.733393}, {11387, 5.720705}, {2481, 5.648491}, {755, 5.5894227}, {657, 5.551899}, {6142, 5.5493093}]                    |\n",
            "|71     |[{8717, 8.951304}, {962, 8.370764}, {491, 8.0940075}, {9810, 8.044771}, {6098, 7.945329}, {8048, 7.4233704}, {4362, 7.387565}, {10953, 7.3584533}, {10572, 7.301395}, {7380, 7.2446713}]               |\n",
            "+-------+-------------------------------------------------------------------------------------------------------------------------------------------------------------------------------------------------------+\n",
            "only showing top 20 rows\n",
            "\n"
          ]
        }
      ],
      "source": [
        "user_recommendations = model.recommendForAllUsers(10)\n",
        "\n",
        "user_recommendations.show(truncate=False)\n"
      ]
    },
    {
      "cell_type": "code",
      "execution_count": 17,
      "metadata": {
        "colab": {
          "base_uri": "https://localhost:8080/",
          "height": 0
        },
        "id": "ZJ2CojIpqM9-",
        "outputId": "eb80d369-6d3c-474d-8c96-dbebce6f88b6"
      },
      "outputs": [
        {
          "output_type": "stream",
          "name": "stdout",
          "text": [
            "+----------+---------------------------------------------------------------------------------------------------------------------------+\n",
            "|article_id|title                                                                                                                      |\n",
            "+----------+---------------------------------------------------------------------------------------------------------------------------+\n",
            "|6877      |Because here is a scary statistic according to Dr Hugh DePaulo                                                             |\n",
            "|6877      |Setting myocarditis aside                                                                                                  |\n",
            "|12549     |What does this have to do with the business of screenwriting? Simply this. When you have the opportunity to write something|\n",
            "|12549     |We’re at this point in time                                                                                                |\n",
            "|6729      |: we wanted to perceive the learning curve. If we would have adopted the platform                                          |\n",
            "+----------+---------------------------------------------------------------------------------------------------------------------------+\n",
            "only showing top 5 rows\n",
            "\n"
          ]
        }
      ],
      "source": [
        "\n",
        "\n",
        "# Assuming your articles article_df has columns article_id and title\n",
        "# Explode the recommendations to flatten the structure\n",
        "exploded_recommendations = user_recommendations.select(\n",
        "    \"user_id\",\n",
        "    explode(\"recommendations\").alias(\"recommendation\")\n",
        ")\n",
        "\n",
        "# Select the user_id, article_id, and rating from the exploded recommendations\n",
        "recommendations_detail = exploded_recommendations.select(\n",
        "    \"user_id\",\n",
        "    col(\"recommendation.article_id\").alias(\"article_id\"),\n",
        "    col(\"recommendation.rating\").alias(\"rating\")\n",
        ")\n",
        "\n",
        "# Join the recommendations with the articles DataFrame to get the article titles\n",
        "final_recommendations = recommendations_detail.join(\n",
        "    article_df.select(\"article_id\", \"title\"),  # Ensure this selects the correct columns from your article dataset\n",
        "    on=\"article_id\",\n",
        "    how=\"inner\"\n",
        ")\n",
        "\n",
        "# Select the specific columns for display\n",
        "final_recommendations = final_recommendations.select('article_id', \"title\")\n",
        "\n",
        "# Show the final recommendations with article titles\n",
        "final_recommendations.show(5,truncate=False)\n"
      ]
    },
    {
      "cell_type": "code",
      "execution_count": 18,
      "metadata": {
        "colab": {
          "base_uri": "https://localhost:8080/",
          "height": 0
        },
        "id": "5WLCYTfpqS5B",
        "outputId": "7da700c5-ed57-4cb5-b8af-5d842918d6ab"
      },
      "outputs": [
        {
          "output_type": "stream",
          "name": "stdout",
          "text": [
            "+----------+--------------------------------------------------------------------------------------------------------+\n",
            "|article_id|title                                                                                                   |\n",
            "+----------+--------------------------------------------------------------------------------------------------------+\n",
            "|0         |Mental Note Vol. 24                                                                                     |\n",
            "|31363     |The rise of (audio)books. We have come a long way — from renting...                                     |\n",
            "|3610      |Take your goal body weight in pounds and multiple it by 12. Example: 150 lbs x 12 = 1800 calories a day.|\n",
            "|3610      |Where an author tells a story                                                                           |\n",
            "|11690     |Step 1:                                                                                                 |\n",
            "+----------+--------------------------------------------------------------------------------------------------------+\n",
            "only showing top 5 rows\n",
            "\n"
          ]
        }
      ],
      "source": [
        "\n",
        "\n",
        "# Initialize Spark session\n",
        "spark = SparkSession.builder.appName(\"Article Recommendation\").getOrCreate()\n",
        "\n",
        "  # Convert features to dense vector and include article_id\n",
        "to_array = udf(lambda x: x.toArray().tolist(), ArrayType(FloatType()))\n",
        "tfidf_dense = tfidf_data.withColumn(\"dense_features\", to_array(col(\"features\")))\n",
        "\n",
        "# Ensure article_id is included\n",
        "tfidf_dense = tfidf_dense.withColumn(\"article_id\", col(\"article_id\"))\n",
        "\n",
        "# Collect features and article IDs to the driver\n",
        "local_features = np.array(tfidf_dense.select(\"dense_features\").rdd.map(lambda x: x[0]).collect()).astype('float32')\n",
        "article_ids = tfidf_dense.select(\"article_id\").rdd.map(lambda x: x[0]).collect()\n",
        "\n",
        "# Create and train a Faiss index\n",
        "dimension = local_features.shape[1]\n",
        "index = faiss.IndexFlatL2(dimension)  # L2 distance\n",
        "index.add(local_features)  # Add vectors to the index\n",
        "\n",
        "# Function to find top N similar items and return their article IDs\n",
        "def find_similar(vector, N):\n",
        "      D, I = index.search(np.array([vector]).astype('float32'), N)\n",
        "      return [article_ids[idx] for idx in I[0]]\n",
        "\n",
        "# Example vector from your dataset\n",
        "sample_vector = local_features[0]\n",
        "similar_articles = find_similar(sample_vector, 10)\n",
        "\n",
        "# Fetch article names from the DataFrame\n",
        "article_names_df = spark.createDataFrame([(aid,) for aid in similar_articles], [\"article_id\"])\\\n",
        "      .join(article_df.select(\"article_id\", \"title\"), \"article_id\")\\\n",
        "      .select('article_id',\"title\")\n",
        "\n",
        "article_names_df.show(5,truncate=False)\n"
      ]
    },
    {
      "cell_type": "code",
      "execution_count": 19,
      "metadata": {
        "id": "tORnZ8XJrqSB"
      },
      "outputs": [],
      "source": [
        "\n",
        "\n",
        "# Replace null values in the 'text' column with an empty string\n",
        "article_df = article_df.withColumn(\"text\", when(col(\"text\").isNull(), \"\").otherwise(col(\"text\")))\n",
        "\n",
        "# Tokenize the text\n",
        "tokenizer = Tokenizer(inputCol=\"text\", outputCol=\"words\")\n",
        "words_data = tokenizer.transform(article_df)\n"
      ]
    },
    {
      "cell_type": "code",
      "source": [
        "from pyspark.ml.clustering import KMeans\n",
        "from pyspark.ml.evaluation import ClusteringEvaluator\n",
        "import matplotlib.pyplot as plt\n",
        "\n",
        "costs = []\n",
        "ks = range(3, 11, 2)\n",
        "\n",
        "for k in ks:\n",
        "    kmeans = KMeans().setK(k).setSeed(1).setFeaturesCol(\"rawFeatures\")\n",
        "    model = kmeans.fit(featurized_data)\n",
        "    predictions = model.transform(featurized_data)\n",
        "\n",
        "    evaluator = ClusteringEvaluator(featuresCol=\"rawFeatures\")\n",
        "    silhouette = evaluator.evaluate(predictions)\n",
        "    costs.append(silhouette)\n",
        "\n",
        "plt.figure(figsize=(10, 6))\n",
        "plt.plot(ks, costs, marker='o')\n",
        "plt.title('Method For Optimal k')\n",
        "plt.xlabel('Number of Clusters (k)')\n",
        "plt.ylabel('Silhouette Score')\n",
        "plt.xticks(ks)\n",
        "plt.grid(True)\n",
        "plt.show()"
      ],
      "metadata": {
        "colab": {
          "base_uri": "https://localhost:8080/",
          "height": 564
        },
        "id": "8B-uykVHwhAM",
        "outputId": "5c683e42-19f0-44b4-d569-14d31b816aff"
      },
      "execution_count": 20,
      "outputs": [
        {
          "output_type": "display_data",
          "data": {
            "text/plain": [
              "<Figure size 1000x600 with 1 Axes>"
            ],
            "image/png": "[encoded data removed]"
          },
          "metadata": {}
        }
      ]
    },
    {
      "cell_type": "code",
      "execution_count": 21,
      "metadata": {
        "id": "3j63aHfOt0J7"
      },
      "outputs": [],
      "source": [
        "# Apply HashingTF to convert words to numeric IDs and count frequencies\n",
        "hashingTF = HashingTF(inputCol=\"words\", outputCol=\"rawFeatures\", numFeatures=1000)\n",
        "featurized_data = hashingTF.transform(words_data)\n",
        "\n",
        "# Apply k-means clustering\n",
        "kmeans = KMeans(featuresCol='rawFeatures', k=3, seed=1)\n",
        "model = kmeans.fit(featurized_data)\n",
        "\n",
        "# Assign articles to clusters\n",
        "clustered_data = model.transform(featurized_data)\n"
      ]
    },
    {
      "cell_type": "code",
      "execution_count": 22,
      "metadata": {
        "colab": {
          "base_uri": "https://localhost:8080/",
          "height": 0
        },
        "id": "Fw8OAlmS7UpB",
        "outputId": "0aa38241-e745-44ff-a06d-c3f34cc953d9"
      },
      "outputs": [
        {
          "output_type": "stream",
          "name": "stdout",
          "text": [
            "+----------+-------------------------------------------------------------------------------------------------------------------------------------------------------------------------------------------------------------------------------+\n",
            "|article_id|title                                                                                                                                                                                                                          |\n",
            "+----------+-------------------------------------------------------------------------------------------------------------------------------------------------------------------------------------------------------------------------------+\n",
            "|415       |I know so many writers who put everything inside them into writing a book. They shine it up and send it off to agents — as they should. And when rejection comes — as it always will — they are crushed. Absolutely devastated.|\n",
            "|533       |Why the possibility of loss is one of the most potent psychological principles in marketing                                                                                                                                    |\n",
            "|1434      |How The Media Can Prevent Copycat Suicides                                                                                                                                                                                     |\n",
            "|2142      |s3_upload_file_multipart method                                                                                                                                                                                                |\n",
            "|2264      |To understand how a computer “understands” an image yo can picture a matrix of the size of the image where on each cell you assign a value that represents the color of the image in that position.                            |\n",
            "+----------+-------------------------------------------------------------------------------------------------------------------------------------------------------------------------------------------------------------------------------+\n",
            "\n"
          ]
        }
      ],
      "source": [
        "# Function to recommend articles from the same cluster\n",
        "def recommend_articles(article_id, num_recommendations=5):\n",
        "    cluster_id = clustered_data.filter(clustered_data['article_id'] == article_id).select('prediction').collect()[0]['prediction']\n",
        "    recommended_articles = clustered_data.filter(clustered_data['prediction'] == cluster_id)\\\n",
        "                                         .select('article_id', 'title')\\\n",
        "                                         .distinct()\\\n",
        "                                         .limit(num_recommendations)\n",
        "    return recommended_articles\n",
        "\n",
        "# Example usage\n",
        "liked_article_id = 123\n",
        "recommendations = recommend_articles(liked_article_id)\n",
        "recommendations.show(truncate=False)\n"
      ]
    },
    {
      "cell_type": "code",
      "execution_count": 23,
      "metadata": {
        "id": "dt-1uFCHDqTP",
        "colab": {
          "base_uri": "https://localhost:8080/",
          "height": 0
        },
        "outputId": "2491fe90-744d-48f3-bceb-b0d4b0a00c1f"
      },
      "outputs": [
        {
          "output_type": "stream",
          "name": "stdout",
          "text": [
            "ALS Recommendations:\n",
            "+----------+---------------------------------------------------------------------------------------------------------------------------+\n",
            "|article_id|title                                                                                                                      |\n",
            "+----------+---------------------------------------------------------------------------------------------------------------------------+\n",
            "|6877      |Because here is a scary statistic according to Dr Hugh DePaulo                                                             |\n",
            "|6877      |Setting myocarditis aside                                                                                                  |\n",
            "|12549     |What does this have to do with the business of screenwriting? Simply this. When you have the opportunity to write something|\n",
            "|12549     |We’re at this point in time                                                                                                |\n",
            "|6729      |: we wanted to perceive the learning curve. If we would have adopted the platform                                          |\n",
            "+----------+---------------------------------------------------------------------------------------------------------------------------+\n",
            "only showing top 5 rows\n",
            "\n",
            "TF-IDF Recommendations:\n",
            "+----------+--------------------------------------------------------------------------------------------------------+\n",
            "|article_id|title                                                                                                   |\n",
            "+----------+--------------------------------------------------------------------------------------------------------+\n",
            "|0         |Mental Note Vol. 24                                                                                     |\n",
            "|31363     |The rise of (audio)books. We have come a long way — from renting...                                     |\n",
            "|3610      |Take your goal body weight in pounds and multiple it by 12. Example: 150 lbs x 12 = 1800 calories a day.|\n",
            "|3610      |Where an author tells a story                                                                           |\n",
            "|11690     |Step 1:                                                                                                 |\n",
            "+----------+--------------------------------------------------------------------------------------------------------+\n",
            "only showing top 5 rows\n",
            "\n",
            "K-Means Recommendations:\n",
            "+----------+-------------------------------------------------------------------------------------------------------------------------------------------------------------------------------------------------------------------------------+\n",
            "|article_id|title                                                                                                                                                                                                                          |\n",
            "+----------+-------------------------------------------------------------------------------------------------------------------------------------------------------------------------------------------------------------------------------+\n",
            "|415       |I know so many writers who put everything inside them into writing a book. They shine it up and send it off to agents — as they should. And when rejection comes — as it always will — they are crushed. Absolutely devastated.|\n",
            "|533       |Why the possibility of loss is one of the most potent psychological principles in marketing                                                                                                                                    |\n",
            "|1434      |How The Media Can Prevent Copycat Suicides                                                                                                                                                                                     |\n",
            "|2142      |s3_upload_file_multipart method                                                                                                                                                                                                |\n",
            "|2264      |To understand how a computer “understands” an image yo can picture a matrix of the size of the image where on each cell you assign a value that represents the color of the image in that position.                            |\n",
            "+----------+-------------------------------------------------------------------------------------------------------------------------------------------------------------------------------------------------------------------------------+\n",
            "\n"
          ]
        }
      ],
      "source": [
        "# Show the recommendations from each method\n",
        "print(\"ALS Recommendations:\")\n",
        "final_recommendations.show(5,truncate=False)\n",
        "\n",
        "print(\"TF-IDF Recommendations:\")\n",
        "article_names_df.show(5,truncate=False)\n",
        "\n",
        "print(\"K-Means Recommendations:\")\n",
        "recommendations.show(5,truncate=False)"
      ]
    },
    {
      "cell_type": "code",
      "source": [
        "# Extract article IDs from DataFrames\n",
        "als_recommendations_ids = final_recommendations.select(\"article_id\").rdd.flatMap(lambda x: x).collect()\n",
        "tfidf_recommendations_ids = article_names_df.select(\"article_id\").rdd.flatMap(lambda x: x).collect()\n",
        "kmeans_recommendations_ids = recommendations.select(\"article_id\").rdd.flatMap(lambda x: x).collect()\n",
        "\n",
        "# Evaluate Precision and Recall\n",
        "als_precision = precision(ground_truth_list, als_recommendations_ids)\n",
        "als_recall = recall(ground_truth_list, als_recommendations_ids)\n",
        "\n",
        "tfidf_precision = precision(ground_truth_list, tfidf_recommendations_ids)\n",
        "tfidf_recall = recall(ground_truth_list, tfidf_recommendations_ids)\n",
        "\n",
        "kmeans_precision = precision(ground_truth_list, kmeans_recommendations_ids)\n",
        "kmeans_recall = recall(ground_truth_list, kmeans_recommendations_ids)\n",
        "\n",
        "# Compare Results\n",
        "print(\"ALS Precision:\", als_precision)\n",
        "print(\"ALS Recall:\", als_recall)\n",
        "\n",
        "print(\"TF-IDF Precision:\", tfidf_precision)\n",
        "print(\"TF-IDF Recall:\", tfidf_recall)\n",
        "\n",
        "print(\"K-Means Precision:\", kmeans_precision)\n",
        "print(\"K-Means Recall:\", kmeans_recall)\n"
      ],
      "metadata": {
        "colab": {
          "base_uri": "https://localhost:8080/",
          "height": 0
        },
        "id": "5fQhkdbNFAxX",
        "outputId": "66d461a2-2234-4ef6-bfc6-77746942b4f8"
      },
      "execution_count": 25,
      "outputs": [
        {
          "output_type": "stream",
          "name": "stdout",
          "text": [
            "ALS Precision: 0.12466124661246612\n",
            "ALS Recall: 0.022323595069397264\n",
            "TF-IDF Precision: 0.1\n",
            "TF-IDF Recall: 9.705910899737941e-05\n",
            "K-Means Precision: 0.6\n",
            "K-Means Recall: 0.0002911773269921382\n"
          ]
        }
      ]
    },
    {
      "cell_type": "code",
      "source": [
        "import pandas as pd\n",
        "\n",
        "# Define the precision and recall values\n",
        "precision_values = [0.12466124661246612, 0.1, 0.6]\n",
        "recall_values = [0.022323595069397264, 9.705910899737941e-05, 0.0002911773269921382]\n",
        "\n",
        "# Creating a DataFrame\n",
        "data = {\n",
        "    \"Method\": [\"ALS\", \"TF-IDF\", \"K-Means\"],\n",
        "    \"Precision\": precision_values,\n",
        "    \"Recall\": recall_values\n",
        "}\n",
        "df = pd.DataFrame(data)\n",
        "\n",
        "print(df)\n"
      ],
      "metadata": {
        "colab": {
          "base_uri": "https://localhost:8080/",
          "height": 0
        },
        "id": "X5_ZSV-eF4Nh",
        "outputId": "c9000f63-bc75-4423-ee35-80ee5fb69955"
      },
      "execution_count": 26,
      "outputs": [
        {
          "output_type": "stream",
          "name": "stdout",
          "text": [
            "    Method  Precision    Recall\n",
            "0      ALS   0.124661  0.022324\n",
            "1   TF-IDF   0.100000  0.000097\n",
            "2  K-Means   0.600000  0.000291\n"
          ]
        }
      ]
    },
    {
      "cell_type": "code",
      "source": [
        "# Define Evaluation Metrics\n",
        "def precision(actual, predicted):\n",
        "    intersection = set(actual).intersection(set(predicted))\n",
        "    return len(intersection) / len(predicted) if len(predicted) > 0 else 0\n",
        "\n",
        "def recall(actual, predicted):\n",
        "    intersection = set(actual).intersection(set(predicted))\n",
        "    return len(intersection) / len(actual) if len(actual) > 0 else 0\n",
        "\n",
        "# Calculate precision and recall for each method\n",
        "methods = [\"ALS\", \"TF-IDF\", \"K-Means\"]\n",
        "precision_values = [0.1247, 0.1, 0.6]  # Placeholder values, replace with actual precision values\n",
        "recall_values = [0.0223, 9.706e-05, 0.0002912]  # Placeholder values, replace with actual recall values\n",
        "\n",
        "# Find the index of the method with the highest precision\n",
        "best_precision_index = precision_values.index(max(precision_values))\n",
        "best_precision_method = methods[best_precision_index]\n",
        "best_precision_value = precision_values[best_precision_index]\n",
        "\n",
        "# Find the index of the method with the highest recall\n",
        "best_recall_index = recall_values.index(max(recall_values))\n",
        "best_recall_method = methods[best_recall_index]\n",
        "best_recall_value = recall_values[best_recall_index]\n",
        "\n",
        "# Determine the best method based on both precision and recall\n",
        "if best_precision_method == best_recall_method:\n",
        "    best_method = best_precision_method\n",
        "    best_value = max(best_precision_value, best_recall_value)\n",
        "else:\n",
        "    # If precision and recall are from different methods, prioritize precision\n",
        "    best_method = best_precision_method if best_precision_value >= best_recall_value else best_recall_method\n",
        "    best_value = max(best_precision_value, best_recall_value)\n",
        "\n",
        "# Print the best method and its corresponding precision and recall values\n",
        "print(\"Best Method:\", best_method)\n",
        "print(\"Precision:\", best_precision_value)\n",
        "print(\"Recall:\", best_recall_value)\n"
      ],
      "metadata": {
        "colab": {
          "base_uri": "https://localhost:8080/",
          "height": 0
        },
        "id": "ZHjZLCyTGIpf",
        "outputId": "4f216c8e-6867-45bc-e189-537eb2077959"
      },
      "execution_count": 27,
      "outputs": [
        {
          "output_type": "stream",
          "name": "stdout",
          "text": [
            "Best Method: K-Means\n",
            "Precision: 0.6\n",
            "Recall: 0.0223\n"
          ]
        }
      ]
    }
  ],
  "metadata": {
    "colab": {
      "provenance": []
    },
    "kernelspec": {
      "display_name": "Python 3",
      "name": "python3"
    },
    "language_info": {
      "name": "python"
    }
  },
  "nbformat": 4,
  "nbformat_minor": 0
}